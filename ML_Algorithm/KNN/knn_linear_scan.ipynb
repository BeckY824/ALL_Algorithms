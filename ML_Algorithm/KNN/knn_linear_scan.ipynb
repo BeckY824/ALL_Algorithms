{
 "cells": [
  {
   "cell_type": "markdown",
   "id": "65eb4188",
   "metadata": {},
   "source": [
    "## 简单实现KNN"
   ]
  },
  {
   "cell_type": "code",
   "execution_count": 2,
   "id": "8eb9cfd0",
   "metadata": {},
   "outputs": [
    {
     "name": "stdout",
     "output_type": "stream",
     "text": [
      "训练集大小:    100 | 预测结果: 0 | 耗时: 0.674 ms\n",
      "训练集大小: 100000000 | 预测结果: 1 | 耗时: 91836.480 ms\n"
     ]
    }
   ],
   "source": [
    "import numpy as np\n",
    "import time\n",
    "\n",
    "# 简单KNN 实现 （线性扫描）\n",
    "def knn_linear_scan(X_train, y_train, x_query, k=3):\n",
    "    # 计算 x_query 到所有训练样本的欧氏距离\n",
    "    distances = np.sqrt(np.sum((X_train - x_query) ** 2, axis=1))\n",
    "    # 找到距离最小的k个索引\n",
    "    nearest_indices = np.argsort(distances)[:k]\n",
    "    # 返回k个标签中出现最多的类别\n",
    "    nearest_labels = y_train[nearest_indices]\n",
    "    labels, counts = np.unique(nearest_labels, return_counts=True)\n",
    "    return labels[np.argmax(counts)]\n",
    "\n",
    "# 测试数据\n",
    "def generate_data(n_samples):\n",
    "    X = np.random.rand(n_samples,10) # 10维特征\n",
    "    y = np.random.randint(0,2, size=n_samples)\n",
    "    return X,y\n",
    "\n",
    "# 运行比较\n",
    "for size in [100,100000000]: # 小训练集和大训练集\n",
    "    X_train, y_train = generate_data(size)\n",
    "    x_query = np.random.rand(10) # 随机查询点\n",
    "\n",
    "    start_time = time.time()\n",
    "    pred = knn_linear_scan(X_train, y_train, x_query, k=3)\n",
    "    time_used = time.time() - start_time\n",
    "    print(f\"训练集大小: {size:>6} | 预测结果: {pred} | 耗时: {time_used *1000:.3f} ms\")\n"
   ]
  },
  {
   "cell_type": "markdown",
   "id": "3d53a7b1",
   "metadata": {},
   "source": [
    "当数据维度上升，数据集的数量增加之后，训练耗时明显增长。\n",
    "由于大模型的参数不计其数以亿为单位，显然线性扫描不是KNN的最优解法。"
   ]
  },
  {
   "cell_type": "markdown",
   "id": "5fcdc095",
   "metadata": {},
   "source": [
    "## 使用KD树实现 KNN"
   ]
  },
  {
   "cell_type": "code",
   "execution_count": 5,
   "id": "51755aca",
   "metadata": {},
   "outputs": [
    {
     "name": "stdout",
     "output_type": "stream",
     "text": [
      "训练集大小:    100 | 线性扫描: 0.686 ms | KD-Tree: 3.102 ms\n",
      "训练集大小: 100000 | 线性扫描: 8.967 ms | KD-Tree: 26.503 ms\n"
     ]
    }
   ],
   "source": [
    "from sklearn.neighbors import KDTree\n",
    "\n",
    "# KD-Tree 版 KNN\n",
    "def knn_kdtree(X_train, y_train, x_query, k=3):\n",
    "    # 构建KD-Tree\n",
    "    tree = KDTree(X_train)\n",
    "    # 查询最近k个点\n",
    "    dist, idx = tree.query(x_query.reshape(1, -1), k=k)\n",
    "    nearest_labels = y_train[idx[0]]\n",
    "    # 多数投票\n",
    "    labels, counts = np.unique(nearest_labels, return_counts=True)\n",
    "    return labels[np.argmax(counts)]\n",
    "\n",
    "# 数据生成\n",
    "def generate_data(n_samples):\n",
    "    X = np.random.rand(n_samples, 10)  # 10维特征\n",
    "    y = np.random.randint(0, 2, size=n_samples)  # 0或1分类\n",
    "    return X, y\n",
    "\n",
    "# 对比线性扫描和KD-Tree\n",
    "from math import log10\n",
    "\n",
    "for size in [100, 100000]:\n",
    "    X_train, y_train = generate_data(size)\n",
    "    x_query = np.random.rand(10)\n",
    "\n",
    "    # 线性扫描\n",
    "    start_time = time.time()\n",
    "    pred_linear = knn_linear_scan(X_train, y_train, x_query, k=3)\n",
    "    time_linear = (time.time() - start_time) * 1000\n",
    "\n",
    "    # KD-Tree\n",
    "    start_time = time.time()\n",
    "    pred_kdtree = knn_kdtree(X_train, y_train, x_query, k=3)\n",
    "    time_kdtree = (time.time() - start_time) * 1000\n",
    "\n",
    "    print(f\"训练集大小: {size:>6} | 线性扫描: {time_linear:.3f} ms | KD-Tree: {time_kdtree:.3f} ms\")"
   ]
  },
  {
   "cell_type": "code",
   "execution_count": null,
   "id": "fa7d64e3",
   "metadata": {},
   "outputs": [],
   "source": [
    "from sklearn.neighbors import KDTree\n",
    "\n",
    "# KD-Tree 版 KNN\n",
    "def knn_kdtree(X_train, y_train, x_query, k=3):\n",
    "    # 构建KD-Tree\n",
    "    tree = KDTree(X_train)\n",
    "    # 查询最近k个点\n",
    "    dist, idx = tree.query(x_query.reshape(1, -1), k=k)\n",
    "    nearest_labels = y_train[idx[0]]\n",
    "    # 多数投票\n",
    "    labels, counts = np.unique(nearest_labels, return_counts=True)\n",
    "    return labels[np.argmax(counts)]\n",
    "\n",
    "# 数据生成\n",
    "def generate_data(n_samples):\n",
    "    X = np.random.rand(n_samples, 10)  # 10维特征\n",
    "    y = np.random.randint(0, 2, size=n_samples)  # 0或1分类\n",
    "    return X, y\n",
    "\n",
    "# 对比线性扫描和KD-Tree\n",
    "from math import log10\n",
    "\n",
    "for size in [100, 1000000]:\n",
    "    X_train, y_train = generate_data(size)\n",
    "    x_query = np.random.rand(10)\n",
    "\n",
    "    # 线性扫描\n",
    "    start_time = time.time()\n",
    "    pred_linear = knn_linear_scan(X_train, y_train, x_query, k=3)\n",
    "    time_linear = (time.time() - start_time) * 1000\n",
    "\n",
    "    # KD-Tree\n",
    "    start_time = time.time()\n",
    "    pred_kdtree = knn_kdtree(X_train, y_train, x_query, k=3)\n",
    "    time_kdtree = (time.time() - start_time) * 1000\n",
    "\n",
    "    print(f\"训练集大小: {size:>6} | 线性扫描: {time_linear:.3f} ms | KD-Tree: {time_kdtree:.3f} ms\")"
   ]
  },
  {
   "cell_type": "code",
   "execution_count": 4,
   "id": "ae9bdc8e",
   "metadata": {},
   "outputs": [
    {
     "name": "stdout",
     "output_type": "stream",
     "text": [
      "训练集大小:    100 | 线性扫描: 1.419 ms | KD-Tree: 2.268 ms\n",
      "训练集大小: 100000000 | 线性扫描: 76761.729 ms | KD-Tree: 160128.061 ms\n"
     ]
    }
   ],
   "source": [
    "from sklearn.neighbors import KDTree\n",
    "\n",
    "# KD-Tree 版 KNN\n",
    "def knn_kdtree(X_train, y_train, x_query, k=3):\n",
    "    # 构建KD-Tree\n",
    "    tree = KDTree(X_train)\n",
    "    # 查询最近k个点\n",
    "    dist, idx = tree.query(x_query.reshape(1, -1), k=k)\n",
    "    nearest_labels = y_train[idx[0]]\n",
    "    # 多数投票\n",
    "    labels, counts = np.unique(nearest_labels, return_counts=True)\n",
    "    return labels[np.argmax(counts)]\n",
    "\n",
    "# 数据生成\n",
    "def generate_data(n_samples):\n",
    "    X = np.random.rand(n_samples, 10)  # 10维特征\n",
    "    y = np.random.randint(0, 2, size=n_samples)  # 0或1分类\n",
    "    return X, y\n",
    "\n",
    "# 对比线性扫描和KD-Tree\n",
    "from math import log10\n",
    "\n",
    "for size in [100, 100000000]:\n",
    "    X_train, y_train = generate_data(size)\n",
    "    x_query = np.random.rand(10)\n",
    "\n",
    "    # 线性扫描\n",
    "    start_time = time.time()\n",
    "    pred_linear = knn_linear_scan(X_train, y_train, x_query, k=3)\n",
    "    time_linear = (time.time() - start_time) * 1000\n",
    "\n",
    "    # KD-Tree\n",
    "    start_time = time.time()\n",
    "    pred_kdtree = knn_kdtree(X_train, y_train, x_query, k=3)\n",
    "    time_kdtree = (time.time() - start_time) * 1000\n",
    "\n",
    "    print(f\"训练集大小: {size:>6} | 线性扫描: {time_linear:.3f} ms | KD-Tree: {time_kdtree:.3f} ms\")"
   ]
  },
  {
   "cell_type": "markdown",
   "id": "0156786e",
   "metadata": {},
   "source": []
  }
 ],
 "metadata": {
  "kernelspec": {
   "display_name": "image",
   "language": "python",
   "name": "python3"
  },
  "language_info": {
   "codemirror_mode": {
    "name": "ipython",
    "version": 3
   },
   "file_extension": ".py",
   "mimetype": "text/x-python",
   "name": "python",
   "nbconvert_exporter": "python",
   "pygments_lexer": "ipython3",
   "version": "3.11.11"
  }
 },
 "nbformat": 4,
 "nbformat_minor": 5
}
